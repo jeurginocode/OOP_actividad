{
  "nbformat": 4,
  "nbformat_minor": 0,
  "metadata": {
    "colab": {
      "provenance": [],
      "authorship_tag": "ABX9TyNt3cBzVOxBfsZYs4Uj5189",
      "include_colab_link": true
    },
    "kernelspec": {
      "name": "python3",
      "display_name": "Python 3"
    },
    "language_info": {
      "name": "python"
    }
  },
  "cells": [
    {
      "cell_type": "markdown",
      "metadata": {
        "id": "view-in-github",
        "colab_type": "text"
      },
      "source": [
        "<a href=\"https://colab.research.google.com/github/jeurginocode/OOP_actividad/blob/main/Ultimo_ejercicio_OOP.ipynb\" target=\"_parent\"><img src=\"https://colab.research.google.com/assets/colab-badge.svg\" alt=\"Open In Colab\"/></a>"
      ]
    },
    {
      "cell_type": "code",
      "execution_count": 133,
      "metadata": {
        "colab": {
          "base_uri": "https://localhost:8080/"
        },
        "id": "KG-yJ9Yn16oy",
        "outputId": "32d0bd96-7582-427c-d791-0e48ce17f2d5"
      },
      "outputs": [
        {
          "output_type": "stream",
          "name": "stdout",
          "text": [
            "Empleado con ID 1 agregado satefactoriamente.\n",
            "Empleado con ID 1 agregado satefactoriamente.\n",
            "Empleado con ID 1 agregado satefactoriamente.\n",
            "Empleado con ID 1 agregado satefactoriamente.\n",
            "# Asistentes a la reunión: 4\n",
            "\n",
            "Mi nomnre es  jouergino y trabajo para jeurgino.inc\n",
            "Mi id es 1\n",
            "\n",
            "Mi nomnre es  None y trabajo para jeurgino.inc\n",
            "Mi id es 1\n",
            "\n",
            "Mi nomnre es  Rowald y trabajo para jeurgino.inc\n",
            "Mi id es 1\n",
            "yo soy el Admin\n",
            "username 1\n",
            "rolee Admin\n",
            "\n",
            "Mi nomnre es  Mikheltodd y trabajo para jeurgino.inc\n",
            "yo sor el encargo\n",
            "Mi id es 1\n",
            "yo soy el Admin\n",
            "username 1\n",
            "rolee Admin\n",
            "_jouergino eleminado\n"
          ]
        }
      ],
      "source": [
        "\n",
        "from abc import ABC, abstractmethod\n",
        "\n",
        "class AbstractEmployee (ABC):\n",
        "    new_id = 1\n",
        "    def __init__(self):\n",
        "      self.id = AbstractEmployee.new_id\n",
        "      AbstractEmployee.new_id + 1\n",
        "\n",
        "      @abstractmethod\n",
        "      def say_id(self):\n",
        "        pass\n",
        "\n",
        "\n",
        "class Employee(AbstractEmployee):#hereda de AbstractEmployee\n",
        "    new_id = 1\n",
        "\n",
        "    def __init__(self, name=None):#el #__init__# es para crear atributos #atributos de la clase\n",
        "        super().__init__()\n",
        "        self.__company = \"jeurgino.inc\"\n",
        "        self._name = name\n",
        "\n",
        "    def say_id(self):#metodo/intruciones/funcines  de la clase\n",
        "        print(\"Mi id es\", self.id)#metodo/intruciones/funcines  de la clase\n",
        "\n",
        "    def get_name(self):\n",
        "        return self._name\n",
        "\n",
        "    def set_name(self, name):\n",
        "        self._name = name\n",
        "\n",
        "    def del_name(self):\n",
        "        print(f\"_{self._name} eleminado\")\n",
        "        del self._name\n",
        "\n",
        "\n",
        "class user:\n",
        "  def __init__(self, username, role):#atributos que se le asigna en la clase\n",
        "        self.username = username#atributos de la clase\n",
        "        self.role = role#atributos de la clase\n",
        "\n",
        "  def say_user_info(self):\n",
        "    print(\"username\",self.username)\n",
        "    print(\"rolee\",self.role)\n",
        "\n",
        "\n",
        "class Admin(Employee,user):#esto crea la subclase de la clase padre Employe # osea que es herencia de  esa clase padre\n",
        "  def __init__(self, name=None):\n",
        "        super().__init__(name)\n",
        "        user.__init__(self,self.id,\"Admin\")#lo de dentro de lo parentesis#()# son los argumentos\n",
        "  def say_id(self):\n",
        "    super().say_id()#el super se utiliza para cuando se hereda una clase\n",
        "    print(\"yo soy el Admin\")\n",
        "\n",
        "\n",
        "class Manager(Admin):\n",
        "  def say_id(self):\n",
        "    print(\"yo sor el encargo\")\n",
        "    super().say_id()\n",
        "\n",
        "class Meeting:\n",
        "    def __init__(self):\n",
        "        self.attendees = []\n",
        "\n",
        "    def __add__(self,employee_instance):\n",
        "            self.attendees.append(employee_instance)\n",
        "            print(f\"Empleado con ID {employee_instance.id} agregado satefactoriamente.\")\n",
        "            return self\n",
        "    def __len__(self):\n",
        "            return len(self.attendees)\n",
        "\n",
        "\n",
        "e1 = Employee()\n",
        "e2 = Employee()\n",
        "e3 = Admin(\"Rowald\")\n",
        "e4 = Manager(\"Mikheltodd\")\n",
        "\n",
        "m1 = Meeting()\n",
        "m1 + e1\n",
        "m1 + e2\n",
        "m1 + e3\n",
        "m1 + e4\n",
        "print(f\"# Asistentes a la reunión: {len(m1)}\")\n",
        "e1.set_name(\"jouergino\")\n",
        "for e in m1.attendees:\n",
        "  print(f\"\\nMi nomnre es  {e.get_name()} y trabajo para {e._Employee__company}\")\n",
        "  e.say_id()\n",
        "  try:\n",
        "    e.say_user_info()\n",
        "  except AttributeError:\n",
        "    continue\n",
        "e1.del_name()\n",
        "\n",
        "\n",
        "\n"
      ]
    },
    {
      "cell_type": "code",
      "source": [],
      "metadata": {
        "id": "JMWGQ0pLr-pG"
      },
      "execution_count": null,
      "outputs": []
    },
    {
      "cell_type": "code",
      "source": [],
      "metadata": {
        "id": "m8RYyoi-jmSv"
      },
      "execution_count": null,
      "outputs": []
    },
    {
      "cell_type": "markdown",
      "source": [],
      "metadata": {
        "id": "ghs00zkP_aId"
      }
    }
  ]
}