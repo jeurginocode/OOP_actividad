{
  "nbformat": 4,
  "nbformat_minor": 0,
  "metadata": {
    "colab": {
      "provenance": [],
      "authorship_tag": "ABX9TyO0514fFJwFpKfxzW8hcoPi",
      "include_colab_link": true
    },
    "kernelspec": {
      "name": "python3",
      "display_name": "Python 3"
    },
    "language_info": {
      "name": "python"
    }
  },
  "cells": [
    {
      "cell_type": "markdown",
      "metadata": {
        "id": "view-in-github",
        "colab_type": "text"
      },
      "source": [
        "<a href=\"https://colab.research.google.com/github/jeurginocode/OOP_actividad/blob/main/Ultimo_ejercicio_OOP.ipynb\" target=\"_parent\"><img src=\"https://colab.research.google.com/assets/colab-badge.svg\" alt=\"Open In Colab\"/></a>"
      ]
    },
    {
      "cell_type": "code",
      "execution_count": 48,
      "metadata": {
        "colab": {
          "base_uri": "https://localhost:8080/",
          "height": 731
        },
        "id": "KG-yJ9Yn16oy",
        "outputId": "1e5c727c-fd14-4a84-c920-6e95c10fab33"
      },
      "outputs": [
        {
          "output_type": "stream",
          "name": "stdout",
          "text": [
            "Empleado con ID 1 agrega satefactoriamente.\n",
            "Empleado con ID 1 agrega satefactoriamente.\n",
            "Empleado con ID 1 agrega satefactoriamente.\n",
            "Mi id es 1\n",
            "Mi id es 1\n",
            "yo soy el Admin\n",
            "Mi id es 1\n",
            "yo soy el Admin\n",
            "yo sor el encargo\n",
            "Mi id es 1\n",
            "Mi id es 1\n",
            "Mi id es 1\n",
            "yo soy el Admin\n",
            "Mi id es 1\n",
            "yo soy el Admin\n",
            "yo sor el encargo\n",
            "username 1\n",
            "rolee Admin\n",
            "Empleado con ID 1 agrega satefactoriamente.\n",
            "Empleado con ID 1 agrega satefactoriamente.\n",
            "Empleado con ID 1 agrega satefactoriamente.\n",
            "Total de asistentes a la reunión: 3\n",
            "Employee name: Jeurgino\n"
          ]
        },
        {
          "output_type": "error",
          "ename": "AttributeError",
          "evalue": "'Employee' object has no attribute '_name'",
          "traceback": [
            "\u001b[0;31m---------------------------------------------------------------------------\u001b[0m",
            "\u001b[0;31mAttributeError\u001b[0m                            Traceback (most recent call last)",
            "\u001b[0;32m<ipython-input-48-687392ef31ac>\u001b[0m in \u001b[0;36m<cell line: 111>\u001b[0;34m()\u001b[0m\n\u001b[1;32m    109\u001b[0m \u001b[0mprint\u001b[0m\u001b[0;34m(\u001b[0m\u001b[0;34m\"Employee name:\"\u001b[0m\u001b[0;34m,\u001b[0m \u001b[0me\u001b[0m\u001b[0;34m.\u001b[0m\u001b[0mget_name\u001b[0m\u001b[0;34m(\u001b[0m\u001b[0;34m)\u001b[0m\u001b[0;34m)\u001b[0m\u001b[0;31m# Obtener y mostrar el nombre del empleado\u001b[0m\u001b[0;34m\u001b[0m\u001b[0;34m\u001b[0m\u001b[0m\n\u001b[1;32m    110\u001b[0m \u001b[0me\u001b[0m\u001b[0;34m.\u001b[0m\u001b[0mdel_name\u001b[0m\u001b[0;34m(\u001b[0m\u001b[0;34m)\u001b[0m\u001b[0;34m\u001b[0m\u001b[0;34m\u001b[0m\u001b[0m\n\u001b[0;32m--> 111\u001b[0;31m \u001b[0mprint\u001b[0m\u001b[0;34m(\u001b[0m\u001b[0;34m\"Employee name after deletion:\"\u001b[0m\u001b[0;34m,\u001b[0m \u001b[0me\u001b[0m\u001b[0;34m.\u001b[0m\u001b[0mget_name\u001b[0m\u001b[0;34m(\u001b[0m\u001b[0;34m)\u001b[0m\u001b[0;34m)\u001b[0m\u001b[0;34m\u001b[0m\u001b[0;34m\u001b[0m\u001b[0m\n\u001b[0m\u001b[1;32m    112\u001b[0m \u001b[0mprint\u001b[0m\u001b[0;34m(\u001b[0m\u001b[0mdir\u001b[0m\u001b[0;34m(\u001b[0m\u001b[0me\u001b[0m\u001b[0;34m)\u001b[0m\u001b[0;34m)\u001b[0m\u001b[0;31m# Imprimir el valor retornado por la función dir() al pasar la instancia de Employee\u001b[0m\u001b[0;34m\u001b[0m\u001b[0;34m\u001b[0m\u001b[0m\n\u001b[1;32m    113\u001b[0m \u001b[0;34m\u001b[0m\u001b[0m\n",
            "\u001b[0;32m<ipython-input-48-687392ef31ac>\u001b[0m in \u001b[0;36mget_name\u001b[0;34m(self)\u001b[0m\n\u001b[1;32m     27\u001b[0m \u001b[0;34m\u001b[0m\u001b[0m\n\u001b[1;32m     28\u001b[0m   \u001b[0;32mdef\u001b[0m \u001b[0mget_name\u001b[0m\u001b[0;34m(\u001b[0m\u001b[0mself\u001b[0m\u001b[0;34m)\u001b[0m\u001b[0;34m:\u001b[0m\u001b[0;34m\u001b[0m\u001b[0;34m\u001b[0m\u001b[0m\n\u001b[0;32m---> 29\u001b[0;31m         \u001b[0;32mreturn\u001b[0m \u001b[0mself\u001b[0m\u001b[0;34m.\u001b[0m\u001b[0m_name\u001b[0m\u001b[0;34m\u001b[0m\u001b[0;34m\u001b[0m\u001b[0m\n\u001b[0m\u001b[1;32m     30\u001b[0m \u001b[0;34m\u001b[0m\u001b[0m\n\u001b[1;32m     31\u001b[0m   \u001b[0;32mdef\u001b[0m \u001b[0mset_name\u001b[0m\u001b[0;34m(\u001b[0m\u001b[0mself\u001b[0m\u001b[0;34m,\u001b[0m \u001b[0mname\u001b[0m\u001b[0;34m)\u001b[0m\u001b[0;34m:\u001b[0m\u001b[0;34m\u001b[0m\u001b[0;34m\u001b[0m\u001b[0m\n",
            "\u001b[0;31mAttributeError\u001b[0m: 'Employee' object has no attribute '_name'"
          ]
        }
      ],
      "source": [
        "from os import SEEK_CUR\n",
        "from abc import ABC, abstractmethod\n",
        "\n",
        "class AbstractEmployee (ABC):\n",
        "    new_id = 1\n",
        "    def __init__(self):\n",
        "      self.id = AbstractEmployee.new_id\n",
        "      AbstractEmployee.new_id + 1\n",
        "\n",
        "\n",
        "\n",
        "\n",
        "class Employee(AbstractEmployee):#hereda de AbstractEmployee\n",
        "  new_id= 1\n",
        "  def __init__(self):#el #__init__# es para crear atributos #atributos de la clase\n",
        "    self.id=Employee.new_id#atributos de la clase\n",
        "    super().__init__()\n",
        "    self.__company=\"juorge.inc\"\n",
        "    self._name=None #este es un atrubuto mas coomunos\n",
        "    Employee.new_id += 1#atributos de la clase\n",
        "  def say_id(self):#metodo/intruciones/funcines  de la clase\n",
        "    print(\"new_id\", self.id)#metodo/intruciones/funcines  de la clase\n",
        "  def say_id(self):\n",
        "    pass\n",
        "  def say_id(self):\n",
        "        print(\"Mi id es\", self.id)\n",
        "\n",
        "  def get_name(self):\n",
        "        return self._name\n",
        "\n",
        "  def set_name(self, name):\n",
        "        self._name = name\n",
        "\n",
        "  def del_name(self):\n",
        "        del self._name\n",
        "class user:\n",
        "  def __init__(self, username, role):#atributos que se le asigna en la clase\n",
        "        self.username = username#atributos de la clase\n",
        "        self.role = role#atributos de la clase\n",
        "\n",
        "  def say_user_info(self):\n",
        "    print(\"username\",self.username)\n",
        "    print(\"rolee\",self.role)\n",
        "\n",
        "\n",
        "class Admin(Employee,user):#esto crea la subclase de la clase padre Employe # osea que es herencia de  esa clase padre\n",
        "  def say_id(self):\n",
        "    super().say_id()#el super se utiliza para cuando se hereda una clase\n",
        "    print(\"yo soy el Admin\")\n",
        "  def __init__(self):\n",
        "        Employee.__init__(self)\n",
        "        user.__init__(self,self.id,\"Admin\")#lo de dentro de lo parentesis#()# son los argumentos\n",
        "\n",
        "class Manager(Admin):\n",
        "  def say_id(self):\n",
        "    super().say_id()\n",
        "    print(\"yo sor el encargo\")\n",
        "\n",
        "class Meeting:\n",
        "    def __init__(self):\n",
        "        self.attendees = []\n",
        "\n",
        "    def __add__(self,employee_instance):\n",
        "          if isinstance(employee_instance, Employee):#esto agrega instacia que son las variables\n",
        "            self.attendees.append(employee_instance)\n",
        "            print(f\"Empleado con ID {employee_instance.id} agrega satefactoriamente.\")\n",
        "          else:\n",
        "              print(\"solo las instancias de Empleado no fuero agregadas.\")\n",
        "    def __len__(self):\n",
        "            return len(self.attendees)\n",
        "\n",
        "\n",
        "\n",
        "meeting= []\n",
        "meeting = Meeting()#esto es una instacia\n",
        "meeting + Employee()#esto es una instacia\n",
        "meeting + Admin()#esto es una instacia\n",
        "meeting + Manager()\n",
        "meeting=Employee(), Admin(), Manager()\n",
        "\n",
        "for meetings in meeting:#un ciclo, itera a través de la lista meeting\n",
        "  meetings.say_id()# la variable definida en el ciclo, llama el método .say_id()\n",
        "\n",
        "\n",
        "\n",
        "\n",
        "e1 = Employee()\n",
        "e2 = Employee()\n",
        "e1.say_id()\n",
        "e2.say_id()\n",
        "\n",
        "\n",
        "e3=Admin()\n",
        "e3.say_id()\n",
        "e4=Manager()\n",
        "e4.say_id()\n",
        "\n",
        "e3.say_user_info()\n",
        "\n",
        "m1 = Meeting()#crear un isntanic de la clase metig\n",
        "m1 + e1 #instancias de Employee a la reunión\n",
        "m1 + e2\n",
        "m1 + e3\n",
        "\n",
        "print(\"Total de asistentes a la reunión:\", len(m1))\n",
        "\n",
        "e=Employee()# Crear una instancia de Employee\n",
        "e.set_name(\"Jeurgino\")# Establecer el nombre del empleado\n",
        "print(\"Employee name:\", e.get_name())# Obtener y mostrar el nombre del empleado\n",
        "e.del_name()\n",
        "print(\"Employee name after deletion:\", e.get_name())\n",
        "print(dir(e))# Imprimir el valor retornado por la función dir() al pasar la instancia de Employee\n",
        "\n",
        "\n",
        "\n",
        "\n"
      ]
    },
    {
      "cell_type": "code",
      "source": [],
      "metadata": {
        "id": "m8RYyoi-jmSv"
      },
      "execution_count": null,
      "outputs": []
    },
    {
      "cell_type": "markdown",
      "source": [],
      "metadata": {
        "id": "ghs00zkP_aId"
      }
    }
  ]
}